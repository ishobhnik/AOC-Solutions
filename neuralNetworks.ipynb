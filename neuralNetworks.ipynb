{
  "nbformat": 4,
  "nbformat_minor": 0,
  "metadata": {
    "colab": {
      "provenance": [],
      "gpuType": "T4",
      "authorship_tag": "ABX9TyO280F7wNy72MBFq7WARl7b",
      "include_colab_link": true
    },
    "kernelspec": {
      "name": "python3",
      "display_name": "Python 3"
    },
    "language_info": {
      "name": "python"
    },
    "accelerator": "GPU"
  },
  "cells": [
    {
      "cell_type": "markdown",
      "metadata": {
        "id": "view-in-github",
        "colab_type": "text"
      },
      "source": [
        "<a href=\"https://colab.research.google.com/github/ishobhnik/AOC-Solutions/blob/main/neuralNetworks.ipynb\" target=\"_parent\"><img src=\"https://colab.research.google.com/assets/colab-badge.svg\" alt=\"Open In Colab\"/></a>"
      ]
    },
    {
      "cell_type": "code",
      "execution_count": null,
      "metadata": {
        "id": "6p3hLEo0n6tG"
      },
      "outputs": [],
      "source": [
        "import torch\n",
        "import torch.nn as nn\n",
        "import torch.optim as optim"
      ]
    },
    {
      "cell_type": "code",
      "source": [
        "# Set the seed for reproducibility\n",
        "seed_value = 30\n",
        "torch.manual_seed(seed_value)"
      ],
      "metadata": {
        "colab": {
          "base_uri": "https://localhost:8080/"
        },
        "id": "HFyDDI1ZEaai",
        "outputId": "80513263-0dd7-4c3b-cc0f-d8a3801cbf3f"
      },
      "execution_count": null,
      "outputs": [
        {
          "output_type": "execute_result",
          "data": {
            "text/plain": [
              "<torch._C.Generator at 0x79ca1ddd7f90>"
            ]
          },
          "metadata": {},
          "execution_count": 30
        }
      ]
    },
    {
      "cell_type": "code",
      "source": [
        "# Define the neural network architecture\n",
        "class NeuralNet(nn.Module):\n",
        "    def __init__(self, input_size, hidden_size, output_size):\n",
        "        super(NeuralNet, self).__init__()\n",
        "        # 3 hidden layers, each with 'hidden_size' neurons (64 in your case)\n",
        "        self.fc1 = nn.Linear(input_size, hidden_size)\n",
        "        self.fc2 = nn.Linear(hidden_size, hidden_size)\n",
        "        self.fc3 = nn.Linear(hidden_size, hidden_size)\n",
        "        # Output layer with 8 neurons (4 pairs of mean + std)\n",
        "        self.fc4 = nn.Linear(hidden_size, output_size)\n",
        "\n",
        "    def forward(self, x):\n",
        "        x = torch.relu(self.fc1(x))  # ReLU activation for the first hidden layer\n",
        "        x = torch.relu(self.fc2(x))  # ReLU activation for the second hidden layer\n",
        "        x = torch.relu(self.fc3(x))  # ReLU activation for the third hidden layer\n",
        "        x = self.fc4(x)  # Output layer (4 pairs of mean + standard deviation)\n",
        "        return x"
      ],
      "metadata": {
        "id": "gf94KH0soXsT"
      },
      "execution_count": null,
      "outputs": []
    },
    {
      "cell_type": "code",
      "source": [
        "# Initialize input and output sizes\n",
        "input_size = 4  # For example, 10 features per input data point\n",
        "hidden_size = 64  # 64 units in each of the 3 hidden layers\n",
        "output_size = 8  # 4 pairs of mean and std (2 values per pair)\n",
        "model = NeuralNet(input_size=input_size, hidden_size=hidden_size,output_size=output_size)\n"
      ],
      "metadata": {
        "id": "sPySSYRZC9i8"
      },
      "execution_count": null,
      "outputs": []
    },
    {
      "cell_type": "code",
      "source": [
        "model.eval()"
      ],
      "metadata": {
        "colab": {
          "base_uri": "https://localhost:8080/"
        },
        "id": "SeVGPm-2P9Z-",
        "outputId": "a8be5fce-5e92-41c6-f39b-17a91acec48d"
      },
      "execution_count": null,
      "outputs": [
        {
          "output_type": "execute_result",
          "data": {
            "text/plain": [
              "NeuralNet(\n",
              "  (fc1): Linear(in_features=4, out_features=64, bias=True)\n",
              "  (fc2): Linear(in_features=64, out_features=64, bias=True)\n",
              "  (fc3): Linear(in_features=64, out_features=64, bias=True)\n",
              "  (fc4): Linear(in_features=64, out_features=8, bias=True)\n",
              ")"
            ]
          },
          "metadata": {},
          "execution_count": 33
        }
      ]
    },
    {
      "cell_type": "code",
      "source": [
        "# Generate random data for training\n",
        "inputs = torch.randn(620, input_size)  # Random input data (620 samples, 4 features each)\n",
        "targets = torch.randn(620, output_size)  # Random targets (4 pairs of mean and std)"
      ],
      "metadata": {
        "id": "VtrRWawJDG0I"
      },
      "execution_count": null,
      "outputs": []
    },
    {
      "cell_type": "code",
      "source": [
        "# Initialize the model, loss function, and optimizer\n",
        "model = NeuralNet(input_size, hidden_size, output_size)\n",
        "criterion = nn.MSELoss()  # Mean Squared Error loss\n",
        "optimizer = optim.Adam(model.parameters(), lr=0.001)"
      ],
      "metadata": {
        "id": "l0Wy05SBDJlU"
      },
      "execution_count": null,
      "outputs": []
    },
    {
      "cell_type": "code",
      "source": [
        "# Training loop\n",
        "num_epochs = 800  # Set the number of epochs\n",
        "for epoch in range(num_epochs):\n",
        "    # Forward pass\n",
        "    outputs = model(inputs)\n",
        "    loss = criterion(outputs, targets)\n",
        "\n",
        "    # Backward pass and optimization\n",
        "    optimizer.zero_grad()  # Clear gradients from previous step\n",
        "    loss.backward()  # Compute gradients\n",
        "    optimizer.step()  # Update model parameters"
      ],
      "metadata": {
        "id": "RCdPgmaIDMqy"
      },
      "execution_count": null,
      "outputs": []
    },
    {
      "cell_type": "code",
      "source": [
        "# After training, you can check the output of the model\n",
        "with torch.no_grad():\n",
        "    sample_input = torch.randn(1, input_size)  # Random sample input\n",
        "    prediction = model(sample_input)\n",
        "    print(\"Predicted means and standard deviations (pairs):\")\n",
        "    # Format output as pairs: [(mean_1, std_1), (mean_2, std_2), ...]\n",
        "    prediction_pairs = prediction.view(4, 2)  # Reshape to 4 pairs (2 values per pair)\n",
        "    print(prediction_pairs)"
      ],
      "metadata": {
        "colab": {
          "base_uri": "https://localhost:8080/"
        },
        "id": "3GfXxla3DRfX",
        "outputId": "78356113-0f59-41f3-84a4-c448737776f9"
      },
      "execution_count": null,
      "outputs": [
        {
          "output_type": "stream",
          "name": "stdout",
          "text": [
            "Predicted means and standard deviations (pairs):\n",
            "tensor([[-0.0101,  1.2398],\n",
            "        [ 0.0724, -0.1099],\n",
            "        [-0.3029, -0.2617],\n",
            "        [-0.2875, -1.1819]])\n"
          ]
        }
      ]
    },
    {
      "cell_type": "code",
      "source": [
        "# Reshape the output into 2 tensors: means and standard deviations\n",
        "means = outputs[:, :4]  # First 4 values are means\n",
        "stds = outputs[:, 4:]   # Last 4 values are standard deviations\n",
        "print(means,stds)\n"
      ],
      "metadata": {
        "id": "S8zHnPCODaLz",
        "colab": {
          "base_uri": "https://localhost:8080/"
        },
        "outputId": "17f79f14-9921-40fc-e052-d1ab4ffd8d20"
      },
      "execution_count": null,
      "outputs": [
        {
          "output_type": "stream",
          "name": "stdout",
          "text": [
            "tensor([[-0.7138,  0.6694,  1.0955,  0.7131],\n",
            "        [-1.4690,  0.6596, -2.0050, -0.3592],\n",
            "        [ 0.3262, -0.7079,  0.2516, -0.0468],\n",
            "        ...,\n",
            "        [ 1.2139, -0.9513, -0.4534, -0.1078],\n",
            "        [-0.7209,  0.4667,  0.5162, -1.2651],\n",
            "        [ 0.1148, -0.9202, -0.1548,  0.3098]], grad_fn=<SliceBackward0>) tensor([[ 4.5268e-01,  2.8412e-01,  7.7527e-01, -7.8138e-01],\n",
            "        [ 6.0870e-01, -3.2685e-01,  6.8657e-01,  2.3209e-01],\n",
            "        [ 1.7971e+00, -3.5764e-01,  2.4999e-01,  1.1787e-01],\n",
            "        ...,\n",
            "        [ 2.0961e-01,  3.6394e-01, -1.2641e+00,  6.5005e-01],\n",
            "        [-8.5131e-01,  4.8975e-01, -6.3042e-01, -5.9743e-01],\n",
            "        [ 3.8354e-01,  1.2537e-03, -6.2919e-01, -8.8808e-01]],\n",
            "       grad_fn=<SliceBackward0>)\n"
          ]
        }
      ]
    },
    {
      "cell_type": "code",
      "source": [
        "import torch\n",
        "import torch.nn.functional as F\n",
        "means = torch.randn(5, 4)  # Example means (100 samples, 4 features)\n",
        "stds = torch.randn(5, 4)   # Example stds (100 samples, 4 features)\n",
        "\n",
        "# Apply ReLU to standard deviations to ensure they are non-negative\n",
        "stds = F.softplus(stds)  # Ensures all values are >= 0\n",
        "\n",
        "# Now, sample from a normal distribution using the means and stds\n",
        "samples = torch.normal(means, stds)\n",
        "\n",
        "# Print the output\n",
        "print(samples)\n",
        "\n"
      ],
      "metadata": {
        "colab": {
          "base_uri": "https://localhost:8080/"
        },
        "id": "_oWz9WZkD1GW",
        "outputId": "23d5cd99-feca-4eef-951c-6ae82ce2c4dc"
      },
      "execution_count": null,
      "outputs": [
        {
          "output_type": "stream",
          "name": "stdout",
          "text": [
            "tensor([[ 2.3113, -2.7646,  0.0319, -0.5608],\n",
            "        [ 0.9050, -0.3209,  0.6952, -0.1273],\n",
            "        [-1.0542, -3.6402, -1.8302, -0.7150],\n",
            "        [ 0.8519,  1.9660,  1.7878, -0.1319],\n",
            "        [ 0.8114, -0.7736, -3.2338,  0.8823]])\n"
          ]
        }
      ]
    },
    {
      "cell_type": "code",
      "source": [
        "pip install onnxruntime-gpu\n"
      ],
      "metadata": {
        "id": "WT0fHdQ7EzoK",
        "colab": {
          "base_uri": "https://localhost:8080/"
        },
        "outputId": "788188e2-a6e1-402e-a4e0-040f06d58076"
      },
      "execution_count": null,
      "outputs": [
        {
          "output_type": "stream",
          "name": "stdout",
          "text": [
            "Requirement already satisfied: onnxruntime-gpu in /usr/local/lib/python3.10/dist-packages (1.20.1)\n",
            "Requirement already satisfied: coloredlogs in /usr/local/lib/python3.10/dist-packages (from onnxruntime-gpu) (15.0.1)\n",
            "Requirement already satisfied: flatbuffers in /usr/local/lib/python3.10/dist-packages (from onnxruntime-gpu) (24.3.25)\n",
            "Requirement already satisfied: numpy>=1.21.6 in /usr/local/lib/python3.10/dist-packages (from onnxruntime-gpu) (1.26.4)\n",
            "Requirement already satisfied: packaging in /usr/local/lib/python3.10/dist-packages (from onnxruntime-gpu) (24.2)\n",
            "Requirement already satisfied: protobuf in /usr/local/lib/python3.10/dist-packages (from onnxruntime-gpu) (4.25.5)\n",
            "Requirement already satisfied: sympy in /usr/local/lib/python3.10/dist-packages (from onnxruntime-gpu) (1.13.1)\n",
            "Requirement already satisfied: humanfriendly>=9.1 in /usr/local/lib/python3.10/dist-packages (from coloredlogs->onnxruntime-gpu) (10.0)\n",
            "Requirement already satisfied: mpmath<1.4,>=1.1.0 in /usr/local/lib/python3.10/dist-packages (from sympy->onnxruntime-gpu) (1.3.0)\n"
          ]
        }
      ]
    },
    {
      "cell_type": "code",
      "source": [
        "!pip install onnx"
      ],
      "metadata": {
        "colab": {
          "base_uri": "https://localhost:8080/"
        },
        "id": "KVmEXGG969HL",
        "outputId": "62a15490-6d3e-4155-d64c-ced7c380e799"
      },
      "execution_count": null,
      "outputs": [
        {
          "output_type": "stream",
          "name": "stdout",
          "text": [
            "Collecting onnx\n",
            "  Downloading onnx-1.17.0-cp310-cp310-manylinux_2_17_x86_64.manylinux2014_x86_64.whl.metadata (16 kB)\n",
            "Requirement already satisfied: numpy>=1.20 in /usr/local/lib/python3.10/dist-packages (from onnx) (1.26.4)\n",
            "Requirement already satisfied: protobuf>=3.20.2 in /usr/local/lib/python3.10/dist-packages (from onnx) (4.25.5)\n",
            "Downloading onnx-1.17.0-cp310-cp310-manylinux_2_17_x86_64.manylinux2014_x86_64.whl (16.0 MB)\n",
            "\u001b[2K   \u001b[90m━━━━━━━━━━━━━━━━━━━━━━━━━━━━━━━━━━━━━━━━\u001b[0m \u001b[32m16.0/16.0 MB\u001b[0m \u001b[31m23.9 MB/s\u001b[0m eta \u001b[36m0:00:00\u001b[0m\n",
            "\u001b[?25hInstalling collected packages: onnx\n",
            "Successfully installed onnx-1.17.0\n"
          ]
        }
      ]
    },
    {
      "cell_type": "code",
      "source": [
        "import torch.onnx\n",
        "dummy_input = torch.randn(4)  # Use an example input (shape should match your model input size)\n",
        "torch.onnx.export(model, dummy_input, \"model.onnx\")"
      ],
      "metadata": {
        "id": "m1tbATuUH1du"
      },
      "execution_count": null,
      "outputs": []
    },
    {
      "cell_type": "code",
      "source": [
        "import torch\n",
        "import onnx\n",
        "import onnxruntime as ort\n",
        "import numpy as np\n",
        "\n",
        "# Load the ONNX model\n",
        "onnx_model = onnx.load(\"model.onnx\")\n",
        "onnx_session = ort.InferenceSession(\"model.onnx\")\n",
        "\n",
        "# Define the input data with 4 features (no reshape required for ONNX)\n",
        "input_data = np.array([0.4123456, 0.6765432, 0.2345678, 1.4564561], dtype=np.float32)\n",
        "\n",
        "# Convert the input data to a PyTorch tensor (reshape for batch size 1)\n",
        "input_dataa = torch.tensor([0.4123456, 0.6765432, 0.2345678, 1.4564561], dtype=torch.float32).unsqueeze(0)\n",
        "\n",
        "# Get the input name from the ONNX model (to be used in inference)\n",
        "input_name = onnx_session.get_inputs()[0].name\n",
        "\n",
        "# Run inference with ONNX\n",
        "onnx_output = onnx_session.run(None, {input_name: input_data})\n",
        "\n",
        "# Extract and print the output from ONNX model\n",
        "print(onnx_output)\n",
        "\n",
        "\n",
        "# ONNX Output\n",
        "means_onnx = onnx_output[0][::2]\n",
        "stds_onnx = onnx_output[0][1::2]\n",
        "\n",
        "\n",
        "print(\"Means (ONNX):\", means_onnx)\n",
        "print(\"Standard Deviations (ONNX):\", stds_onnx)\n",
        "\n",
        "# Set the model to evaluation mode for inference\n",
        "model.eval()\n",
        "\n",
        "# Run inference with PyTorch\n",
        "with torch.no_grad():  # Disable gradient calculation during inference\n",
        "    output_pytorch = model(input_dataa)  # Get output from PyTorch model\n",
        "\n",
        "# PyTorch Output\n",
        "means_pytorch = output_pytorch[0, ::2].numpy()\n",
        "stds_pytorch = output_pytorch[0, 1::2].numpy()\n",
        "\n",
        "print(\"Means (PyTorch):\", means_pytorch)\n",
        "print(\"Standard Deviations (PyTorch):\", stds_pytorch)"
      ],
      "metadata": {
        "colab": {
          "base_uri": "https://localhost:8080/"
        },
        "id": "P-o2BPTtMtjU",
        "outputId": "fe73aefa-fa1f-482b-9126-a502e4683439"
      },
      "execution_count": null,
      "outputs": [
        {
          "output_type": "stream",
          "name": "stdout",
          "text": [
            "[array([-0.5575732 , -0.215824  ,  0.97149235,  0.29591045, -0.154135  ,\n",
            "       -0.6782721 ,  0.36576837, -0.0805197 ], dtype=float32)]\n",
            "Means (ONNX): [-0.5575732   0.97149235 -0.154135    0.36576837]\n",
            "Standard Deviations (ONNX): [-0.215824    0.29591045 -0.6782721  -0.0805197 ]\n",
            "Means (PyTorch): [-0.5575737   0.97149247 -0.15413462  0.36576873]\n",
            "Standard Deviations (PyTorch): [-0.21582335  0.29591036 -0.6782721  -0.08052036]\n"
          ]
        }
      ]
    },
    {
      "cell_type": "code",
      "source": [
        "import torch.onnx\n",
        "\n",
        "# Example model and dummy input (adjust to your model and input size)\n",
        "dummy_input = torch.randn(1, 4)  # Adjust input size according to your model's input\n",
        "torch.onnx.export(model, dummy_input, \"model.onnx\")\n"
      ],
      "metadata": {
        "id": "cYIty8yEaEV7"
      },
      "execution_count": null,
      "outputs": []
    },
    {
      "cell_type": "code",
      "source": [
        "# Assuming `means` and `stds` are the outputs from the PyTorch model\n",
        "import torch\n",
        "import torch.nn.functional as F\n",
        "torch.random.manual_seed(42)\n",
        "means = torch.tensor([-0.44975966,  0.9250445,   0.22806083,  0.2681643 ])  # Replace with actual PyTorch output\n",
        "stds = torch.tensor([-0.42097732,  0.22998153, -0.30423176, -0.4729419 ])  # Replace with actual PyTorch output\n",
        "stds_transformed = F.softplus(stds)\n",
        "# Sample from the normal distribution in PyTorch\n",
        "pytorch_samples = torch.normal(means, stds_transformed)\n",
        "print(pytorch_samples)\n"
      ],
      "metadata": {
        "colab": {
          "base_uri": "https://localhost:8080/"
        },
        "id": "TJMWu0ASikFC",
        "outputId": "d5f6e370-8d0a-46a7-f701-2e4452de8c2e"
      },
      "execution_count": null,
      "outputs": [
        {
          "output_type": "stream",
          "name": "stdout",
          "text": [
            "tensor([-0.2798,  1.0300,  0.3576,  0.3797])\n"
          ]
        }
      ]
    },
    {
      "cell_type": "code",
      "source": [
        "import torch\n",
        "import numpy as np\n",
        "import onnxruntime as ort\n",
        "import torch.nn.functional as F\n",
        "\n",
        "# Set random seed for both PyTorch and ONNX\n",
        "np.random.seed(42)\n",
        "torch.manual_seed(42)\n",
        "\n",
        "# Load the ONNX model\n",
        "onnx_session = ort.InferenceSession(\"model.onnx\")\n",
        "\n",
        "# Prepare the input (adjust to your model's expected input)\n",
        "onnx_input = np.random.randn(1,4).astype(np.float32)  # Adjust input size accordingly\n",
        "\n",
        "# Get the expected input name\n",
        "input_name = onnx_session.get_inputs()[0].name\n",
        "\n",
        "# Run the model\n",
        "onnx_outputs = onnx_session.run(None, {input_name: onnx_input})\n",
        "\n",
        "# Extract means and stds from ONNX model output (assuming 2 outputs for means and stds)\n",
        "onnx_means = torch.tensor([-0.4497599,   0.9250442,   0.22806044,  0.2681645 ])  # Example means\n",
        "onnx_stds = torch.tensor([-0.4209782,   0.22998235, -0.30423188, -0.4729421 ])  # Example stds\n",
        "onnx_stds_transformed = F.softplus(onnx_stds)\n",
        "# Sample from the normal distribution using the transformed standard deviations\n",
        "onnx_samples = torch.normal(onnx_means, onnx_stds_transformed)\n",
        "# Print the samples\n",
        "print(onnx_samples)\n"
      ],
      "metadata": {
        "colab": {
          "base_uri": "https://localhost:8080/"
        },
        "id": "D7bZe_xDrITY",
        "outputId": "465f3c8d-f5e3-4405-a3e0-63bd55ab60e9"
      },
      "execution_count": null,
      "outputs": [
        {
          "output_type": "stream",
          "name": "stdout",
          "text": [
            "tensor([-0.2798,  1.0300,  0.3576,  0.3797])\n"
          ]
        }
      ]
    },
    {
      "cell_type": "code",
      "source": [
        "# Convert to numpy for easier comparison (optional)\n",
        "pytorch_samples_np = pytorch_samples.detach().numpy()\n",
        "onnx_samples_np = onnx_samples.detach().numpy()\n",
        "\n",
        "# Print or visually compare the results\n",
        "print(\"PyTorch Samples:\", pytorch_samples_np)\n",
        "print(\"ONNX Samples:\", onnx_samples_np)\n",
        "\n",
        "# Optional: Plot a comparison of the distributions\n",
        "import matplotlib.pyplot as plt\n",
        "\n",
        "plt.hist(pytorch_samples_np.flatten(), bins=30, alpha=0.5, label=\"PyTorch Samples\")\n",
        "plt.hist(onnx_samples_np.flatten(), bins=30, alpha=0.5, label=\"ONNX Samples\")\n",
        "plt.legend()\n",
        "plt.show()\n"
      ],
      "metadata": {
        "colab": {
          "base_uri": "https://localhost:8080/",
          "height": 466
        },
        "id": "Nv1RYybhlqvU",
        "outputId": "345aa701-0479-4e17-83e4-492c83a775c8"
      },
      "execution_count": null,
      "outputs": [
        {
          "output_type": "stream",
          "name": "stdout",
          "text": [
            "PyTorch Samples: [-0.279849    1.02999     0.35761455  0.37973273]\n",
            "ONNX Samples: [-0.27984935  1.0299897   0.35761416  0.37973288]\n"
          ]
        },
        {
          "output_type": "display_data",
          "data": {
            "text/plain": [
              "<Figure size 640x480 with 1 Axes>"
            ],
            "image/png": "[encoded data removed]"
          },
          "metadata": {}
        }
      ]
    },
    {
      "cell_type": "code",
      "source": [],
      "metadata": {
        "id": "wv4IdrF8tGie"
      },
      "execution_count": null,
      "outputs": []
    }
  ]
}